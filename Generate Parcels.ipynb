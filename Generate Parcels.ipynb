{
 "cells": [
  {
   "cell_type": "code",
   "execution_count": 1,
   "metadata": {},
   "outputs": [
    {
     "name": "stderr",
     "output_type": "stream",
     "text": [
      "/home/shoerl/.mamba/envs/lead/lib/python3.8/site-packages/geopandas/_compat.py:111: UserWarning: The Shapely GEOS version (3.8.0-CAPI-1.13.1 ) is incompatible with the GEOS version PyGEOS was compiled with (3.9.1-CAPI-1.14.2). Conversions between both will be slow.\n",
      "  warnings.warn(\n"
     ]
    }
   ],
   "source": [
    "import os, itertools\n",
    "\n",
    "import numpy as np\n",
    "import pandas as pd\n",
    "\n",
    "import scipy.stats as stats\n",
    "import geopandas as gpd\n",
    "\n",
    "from tqdm.notebook import tqdm"
   ]
  },
  {
   "cell_type": "code",
   "execution_count": 2,
   "metadata": {
    "tags": [
     "parameters"
    ]
   },
   "outputs": [],
   "source": [
    "input_path = \"input\"\n",
    "output_path = \"output\"\n",
    "\n",
    "random_seed = 0\n",
    "\n",
    "delivery_days = 313 # 365\n",
    "scaling = 1.0\n",
    "\n",
    "input_prefix = \"\"\n",
    "output_prefix = \"\""
   ]
  },
  {
   "cell_type": "code",
   "execution_count": 3,
   "metadata": {},
   "outputs": [],
   "source": [
    "input_path = \"../static_data/parcels\"\n",
    "output_path = \"../static_data/parcels\"\n",
    "\n",
    "random_seed = 0\n",
    "\n",
    "delivery_days = 313 # 365\n",
    "scaling = 1.0\n",
    "\n",
    "input_prefix = \"lead_\"\n",
    "output_prefix = \"lead_\""
   ]
  },
  {
   "cell_type": "code",
   "execution_count": 4,
   "metadata": {},
   "outputs": [],
   "source": [
    "assert os.path.exists(\"{}/{}persons.csv\".format(input_path, input_prefix))\n",
    "assert os.path.exists(\"{}/{}homes.gpkg\".format(input_path, input_prefix))"
   ]
  },
  {
   "cell_type": "markdown",
   "metadata": {},
   "source": [
    "# Impute categories to population"
   ]
  },
  {
   "cell_type": "code",
   "execution_count": 5,
   "metadata": {},
   "outputs": [],
   "source": [
    "df_persons = pd.read_csv(\"{}/{}persons.csv\".format(input_path, input_prefix), sep = \";\")\n",
    "df_persons = df_persons[df_persons[\"age\"] >= 18]"
   ]
  },
  {
   "cell_type": "code",
   "execution_count": 6,
   "metadata": {},
   "outputs": [],
   "source": [
    "# Age class\n",
    "\n",
    "df_persons.loc[(df_persons[\"age\"] >= 18) & (df_persons[\"age\"] <= 34), \"ac\"] = 0 # 18 - 34\n",
    "df_persons.loc[(df_persons[\"age\"] >= 35) & (df_persons[\"age\"] <= 49), \"ac\"] = 1 # 35 - 49\n",
    "df_persons.loc[(df_persons[\"age\"] >= 50) & (df_persons[\"age\"] <= 64), \"ac\"] = 2 # 50 - 64\n",
    "df_persons.loc[(df_persons[\"age\"] >= 65), \"ac\"] = 3 # 65+\n",
    "df_persons[\"ac\"] = df_persons[\"ac\"].astype(int)"
   ]
  },
  {
   "cell_type": "code",
   "execution_count": 7,
   "metadata": {},
   "outputs": [],
   "source": [
    "# Socioprofessional class\n",
    "\n",
    "df_persons.loc[df_persons[\"socioprofessional_class\"].isin([1, 2]), \"sc\"] = 0 # CE,Artis,Com\n",
    "df_persons.loc[df_persons[\"socioprofessional_class\"].isin([3]), \"sc\"] = 1 # Cadre\n",
    "df_persons.loc[df_persons[\"socioprofessional_class\"].isin([4]), \"sc\"] = 2 # Prof Int\n",
    "df_persons.loc[df_persons[\"socioprofessional_class\"].isin([5]), \"sc\"] = 3 # Employe\n",
    "df_persons.loc[df_persons[\"socioprofessional_class\"].isin([6]), \"sc\"] = 4 # Ouvrier\n",
    "df_persons.loc[df_persons[\"socioprofessional_class\"].isin([7]), \"sc\"] = 5 # Retraite\n",
    "df_persons.loc[df_persons[\"socioprofessional_class\"].isin([8]), \"sc\"] = 6 # Sans Act\n",
    "df_persons[\"sc\"] = df_persons[\"sc\"].astype(int)"
   ]
  },
  {
   "cell_type": "code",
   "execution_count": 8,
   "metadata": {},
   "outputs": [],
   "source": [
    "# Household size class\n",
    "\n",
    "df_household_size = df_persons.groupby(\"household_id\").size().reset_index(name = \"household_size\")\n",
    "df_persons = pd.merge(df_persons, df_household_size, on = \"household_id\")\n",
    "\n",
    "df_persons.loc[df_persons[\"household_size\"] == 1, \"hc\"] = 0 # 1\n",
    "df_persons.loc[df_persons[\"household_size\"] == 2, \"hc\"] = 1 # 2\n",
    "df_persons.loc[df_persons[\"household_size\"] == 3, \"hc\"] = 2 # 3\n",
    "df_persons.loc[df_persons[\"household_size\"] >= 4, \"hc\"] = 3 # 4+\n",
    "df_persons[\"hc\"] = df_persons[\"hc\"].astype(int)"
   ]
  },
  {
   "cell_type": "markdown",
   "metadata": {},
   "source": [
    "# Obtain marginals from report"
   ]
  },
  {
   "cell_type": "code",
   "execution_count": 9,
   "metadata": {},
   "outputs": [],
   "source": [
    "# LAD by household size class and socioprofessional class (Figure 29)\n",
    "\n",
    "marginal_hc_sc = np.array([\n",
    "    [4, 12, 9, 14, 10, 5, 5],\n",
    "    [27, 18, 15, 4, 16, 6, 13],\n",
    "    [24, 26, 22, 6, 12, 10, 22],\n",
    "    [30, 29, 22, 15, 29, 16, 17],\n",
    "])\n",
    "\n",
    "# LAD by age class and socioprofessional class (Figure 30)\n",
    "\n",
    "marginal_ac_sc = np.array([\n",
    "    [45, 29, 21, 18, 20, 0, 18],\n",
    "    [30, 29, 19, 14, 22, 0, 11],\n",
    "    [14, 17, 10, 5, 16, 12, 9],\n",
    "    [12, 9, 0, 0, 0, 5, 2],\n",
    "])\n",
    "\n",
    "# LAD by socioprofessional class (Table 8)\n",
    "\n",
    "marginal_sc = np.array([\n",
    "    23.51, 21.19, 19.08, 15.15, 10.31, 9.77, 6.11\n",
    "])\n",
    "\n",
    "# Home delivery by socioprofessional class (Table 8)\n",
    "\n",
    "probability_home_delivery = np.array([\n",
    "    53.2, 46.8, 40.7, 49.1, 26.3, 56.5, 70.2\n",
    "]) * 1e-2\n",
    "\n",
    "# Total number of orders per year\n",
    "marginal_total = 14.0"
   ]
  },
  {
   "cell_type": "markdown",
   "metadata": {},
   "source": [
    "# Sample reference persons and aggregate counts"
   ]
  },
  {
   "cell_type": "code",
   "execution_count": 10,
   "metadata": {},
   "outputs": [],
   "source": [
    "np.random.seed(random_seed)\n",
    "\n",
    "sorter = np.arange(len(df_persons))\n",
    "np.random.shuffle(sorter)\n",
    "\n",
    "df_persons = df_persons.iloc[sorter]\n",
    "df_persons = df_persons.drop_duplicates(\"household_id\")"
   ]
  },
  {
   "cell_type": "code",
   "execution_count": 11,
   "metadata": {},
   "outputs": [],
   "source": [
    "df = df_persons.groupby([\n",
    "    \"ac\", \"hc\", \"sc\"\n",
    "]).size().reset_index(name = \"count\")\n",
    "\n",
    "df[\"weight\"] = 1.0"
   ]
  },
  {
   "cell_type": "markdown",
   "metadata": {},
   "source": [
    "# Apply weighting"
   ]
  },
  {
   "cell_type": "code",
   "execution_count": 12,
   "metadata": {},
   "outputs": [
    {
     "data": {
      "application/vnd.jupyter.widget-view+json": {
       "model_id": "8de17abeba7e4fc4af5ad0a813518f12",
       "version_major": 2,
       "version_minor": 0
      },
      "text/plain": [
       "  0%|          | 0/100 [00:00<?, ?it/s]"
      ]
     },
     "metadata": {},
     "output_type": "display_data"
    }
   ],
   "source": [
    "for k in tqdm(range(100)): # Run 100 iterations\n",
    "    \n",
    "    # Weighting of household size x socioprofessional class\n",
    "    for hc in range(4):\n",
    "        for sc in range(7):\n",
    "            f = (df[\"hc\"] == hc) & (df[\"sc\"] == sc)\n",
    "\n",
    "            if np.count_nonzero(f) > 0:\n",
    "                current_weight = (df[f][\"weight\"] * df[f][\"count\"]).sum()\n",
    "                target_weight = marginal_hc_sc[hc, sc] * df[f][\"count\"].sum()\n",
    "\n",
    "                if current_weight > 0:\n",
    "                    factor = target_weight / current_weight\n",
    "                    df.loc[f, \"weight\"] *= factor\n",
    "                    \n",
    "    # Weighting of household size x socioprofessional class\n",
    "    for ac in range(4):\n",
    "        for sc in range(7):\n",
    "            f = (df[\"ac\"] == ac) & (df[\"sc\"] == sc)\n",
    "\n",
    "            if np.count_nonzero(f) > 0:\n",
    "                current_weight = (df[f][\"weight\"] * df[f][\"count\"]).sum()\n",
    "                target_weight = marginal_ac_sc[ac, sc] * df[f][\"count\"].sum()\n",
    "\n",
    "                if current_weight > 0:\n",
    "                    factor = target_weight / current_weight\n",
    "                    df.loc[f, \"weight\"] *= factor\n",
    "    \n",
    "    # Weighting of socioprofessional class\n",
    "    for sc in range(7):\n",
    "        f = df[\"sc\"] == sc\n",
    "\n",
    "        if np.count_nonzero(f) > 0:\n",
    "            current_weight = (df[f][\"weight\"] * df[f][\"count\"]).sum()\n",
    "            target_weight = marginal_sc[sc] * df[f][\"count\"].sum()\n",
    "\n",
    "            if current_weight > 0:\n",
    "                factor = target_weight / current_weight\n",
    "                df.loc[f, \"weight\"] *= factor\n",
    "                \n",
    "    # Weighting of total       \n",
    "    current_weight = (df[\"weight\"] * df[\"count\"]).sum()\n",
    "    factor = marginal_total * df[\"count\"].sum() / current_weight\n",
    "    df[\"weight\"] *= factor"
   ]
  },
  {
   "cell_type": "code",
   "execution_count": 13,
   "metadata": {},
   "outputs": [
    {
     "data": {
      "text/plain": [
       "14.0"
      ]
     },
     "execution_count": 13,
     "metadata": {},
     "output_type": "execute_result"
    }
   ],
   "source": [
    "(df[\"count\"] * df[\"weight\"]).sum() / df[\"count\"].sum() # Should be around 14"
   ]
  },
  {
   "cell_type": "markdown",
   "metadata": {},
   "source": [
    "# Generate deliveries"
   ]
  },
  {
   "cell_type": "code",
   "execution_count": 14,
   "metadata": {},
   "outputs": [],
   "source": [
    "df_deliveries = df_persons[[\"household_id\", \"ac\", \"hc\", \"sc\"]].copy()\n",
    "df_deliveries = pd.merge(df_deliveries, df)\n",
    "\n",
    "for sc, ac, hc in itertools.product(range(7), range(4), range(4)):\n",
    "    f = df_deliveries[\"sc\"] == sc\n",
    "    f &= df_deliveries[\"ac\"] == ac\n",
    "    f &= df_deliveries[\"hc\"] == hc\n",
    "    \n",
    "    if np.count_nonzero(f) > 0:\n",
    "        weight = scaling * df_deliveries[f][\"weight\"].values[0] / delivery_days\n",
    "        \n",
    "        df_deliveries.loc[f, \"orders\"] = stats.poisson(weight).rvs(np.count_nonzero(f))\n",
    "        df_deliveries.loc[f, \"packages\"] = stats.poisson(\n",
    "            weight * probability_home_delivery[sc]).rvs(np.count_nonzero(f))"
   ]
  },
  {
   "cell_type": "code",
   "execution_count": 15,
   "metadata": {},
   "outputs": [
    {
     "data": {
      "text/plain": [
       "14.028868081171117"
      ]
     },
     "execution_count": 15,
     "metadata": {},
     "output_type": "execute_result"
    }
   ],
   "source": [
    "df_deliveries[\"orders\"].sum() * delivery_days / len(df_deliveries) # Should be around 14"
   ]
  },
  {
   "cell_type": "code",
   "execution_count": 16,
   "metadata": {},
   "outputs": [
    {
     "data": {
      "text/plain": [
       "0.0    93196\n",
       "1.0     1932\n",
       "2.0       28\n",
       "4.0        1\n",
       "Name: packages, dtype: int64"
      ]
     },
     "execution_count": 16,
     "metadata": {},
     "output_type": "execute_result"
    }
   ],
   "source": [
    "df_deliveries[\"packages\"].value_counts()"
   ]
  },
  {
   "cell_type": "code",
   "execution_count": 17,
   "metadata": {},
   "outputs": [
    {
     "data": {
      "text/html": [
       "<div>\n",
       "<style scoped>\n",
       "    .dataframe tbody tr th:only-of-type {\n",
       "        vertical-align: middle;\n",
       "    }\n",
       "\n",
       "    .dataframe tbody tr th {\n",
       "        vertical-align: top;\n",
       "    }\n",
       "\n",
       "    .dataframe thead th {\n",
       "        text-align: right;\n",
       "    }\n",
       "</style>\n",
       "<table border=\"1\" class=\"dataframe\">\n",
       "  <thead>\n",
       "    <tr style=\"text-align: right;\">\n",
       "      <th></th>\n",
       "      <th>household_id</th>\n",
       "      <th>packages</th>\n",
       "    </tr>\n",
       "  </thead>\n",
       "  <tbody>\n",
       "    <tr>\n",
       "      <th>160</th>\n",
       "      <td>32255</td>\n",
       "      <td>1.0</td>\n",
       "    </tr>\n",
       "    <tr>\n",
       "      <th>181</th>\n",
       "      <td>1372685</td>\n",
       "      <td>1.0</td>\n",
       "    </tr>\n",
       "    <tr>\n",
       "      <th>268</th>\n",
       "      <td>475680</td>\n",
       "      <td>1.0</td>\n",
       "    </tr>\n",
       "    <tr>\n",
       "      <th>273</th>\n",
       "      <td>1974169</td>\n",
       "      <td>1.0</td>\n",
       "    </tr>\n",
       "    <tr>\n",
       "      <th>364</th>\n",
       "      <td>770762</td>\n",
       "      <td>1.0</td>\n",
       "    </tr>\n",
       "    <tr>\n",
       "      <th>...</th>\n",
       "      <td>...</td>\n",
       "      <td>...</td>\n",
       "    </tr>\n",
       "    <tr>\n",
       "      <th>94810</th>\n",
       "      <td>55915</td>\n",
       "      <td>1.0</td>\n",
       "    </tr>\n",
       "    <tr>\n",
       "      <th>94816</th>\n",
       "      <td>152317</td>\n",
       "      <td>1.0</td>\n",
       "    </tr>\n",
       "    <tr>\n",
       "      <th>94831</th>\n",
       "      <td>1504676</td>\n",
       "      <td>1.0</td>\n",
       "    </tr>\n",
       "    <tr>\n",
       "      <th>94832</th>\n",
       "      <td>1609743</td>\n",
       "      <td>1.0</td>\n",
       "    </tr>\n",
       "    <tr>\n",
       "      <th>94848</th>\n",
       "      <td>1136984</td>\n",
       "      <td>1.0</td>\n",
       "    </tr>\n",
       "  </tbody>\n",
       "</table>\n",
       "<p>1961 rows × 2 columns</p>\n",
       "</div>"
      ],
      "text/plain": [
       "       household_id  packages\n",
       "160           32255       1.0\n",
       "181         1372685       1.0\n",
       "268          475680       1.0\n",
       "273         1974169       1.0\n",
       "364          770762       1.0\n",
       "...             ...       ...\n",
       "94810         55915       1.0\n",
       "94816        152317       1.0\n",
       "94831       1504676       1.0\n",
       "94832       1609743       1.0\n",
       "94848       1136984       1.0\n",
       "\n",
       "[1961 rows x 2 columns]"
      ]
     },
     "execution_count": 17,
     "metadata": {},
     "output_type": "execute_result"
    }
   ],
   "source": [
    "df_deliveries = df_deliveries[df_deliveries[\"packages\"] > 0]\n",
    "df_deliveries[[\"household_id\", \"packages\"]]"
   ]
  },
  {
   "cell_type": "markdown",
   "metadata": {},
   "source": [
    "# Geographic information"
   ]
  },
  {
   "cell_type": "code",
   "execution_count": 18,
   "metadata": {},
   "outputs": [],
   "source": [
    "df_spatial = gpd.read_file(\"{}/{}homes.gpkg\".format(input_path, input_prefix))"
   ]
  },
  {
   "cell_type": "code",
   "execution_count": 20,
   "metadata": {},
   "outputs": [],
   "source": [
    "df_spatial = pd.merge(df_spatial, df_deliveries[[\"household_id\", \"packages\"]], on = \"household_id\")\n",
    "df_spatial.to_file(\"{}/{}parcels.gpkg\".format(output_path, output_prefix), driver = \"GPKG\")"
   ]
  }
 ],
 "metadata": {
  "celltoolbar": "Tags",
  "kernelspec": {
   "display_name": "Python 3 (ipykernel)",
   "language": "python",
   "name": "python3"
  },
  "language_info": {
   "codemirror_mode": {
    "name": "ipython",
    "version": 3
   },
   "file_extension": ".py",
   "mimetype": "text/x-python",
   "name": "python",
   "nbconvert_exporter": "python",
   "pygments_lexer": "ipython3",
   "version": "3.8.12"
  }
 },
 "nbformat": 4,
 "nbformat_minor": 4
}
